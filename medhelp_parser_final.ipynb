{
 "cells": [
  {
   "cell_type": "code",
   "execution_count": 1,
   "metadata": {},
   "outputs": [],
   "source": [
    "import pandas as pd\n",
    "import numpy as np\n",
    "import matplotlib.pyplot as plt\n",
    "from bs4 import BeautifulSoup\n",
    "import requests \n",
    "import pickle"
   ]
  },
  {
   "cell_type": "markdown",
   "metadata": {},
   "source": [
    "# Get list of all URLs to parse"
   ]
  },
  {
   "cell_type": "code",
   "execution_count": 2,
   "metadata": {},
   "outputs": [],
   "source": [
    "headers = {\n",
    "    'authority': 'cdn.cookielaw.org',\n",
    "    'accept': '*/*',\n",
    "    'accept-language': 'en-US,en;q=0.9',\n",
    "    'referer': 'https://www.medhelp.org/',\n",
    "    'sec-ch-ua': '\"Not_A Brand\";v=\"99\", \"Google Chrome\";v=\"109\", \"Chromium\";v=\"109\"',\n",
    "    'sec-ch-ua-mobile': '?0',\n",
    "    'sec-ch-ua-platform': '\"macOS\"',\n",
    "    'sec-fetch-dest': 'script',\n",
    "    'sec-fetch-mode': 'no-cors',\n",
    "    'sec-fetch-site': 'cross-site',\n",
    "    'user-agent': 'Mozilla/5.0 (Macintosh; Intel Mac OS X 10_15_7) AppleWebKit/537.36 (KHTML, like Gecko) Chrome/109.0.0.0 Safari/537.36',\n",
    "}"
   ]
  },
  {
   "cell_type": "code",
   "execution_count": 3,
   "metadata": {},
   "outputs": [],
   "source": [
    "def extract_urls_from_medhelp(URL, headers):\n",
    "    \n",
    "    response = requests.get(URL, headers=headers)\n",
    "    if response.status_code != 200:\n",
    "        return -1\n",
    "    \n",
    "    soup = BeautifulSoup(response.content, \"html.parser\")\n",
    "\n",
    "    div_rel = soup.find('div', id='body_container')\n",
    "\n",
    "    all_h2_tags = div_rel.find_all('h2', class_ = 'subj_title')\n",
    "\n",
    "    post_list = []\n",
    "\n",
    "    for child in all_h2_tags:\n",
    "        post_list.append( child.a.attrs['href'])\n",
    "    \n",
    "    return post_list"
   ]
  },
  {
   "cell_type": "code",
   "execution_count": 4,
   "metadata": {},
   "outputs": [],
   "source": [
    "base_url = \"https://www.medhelp.org/forums/Eye-Care/show/90?page=\""
   ]
  },
  {
   "cell_type": "code",
   "execution_count": 5,
   "metadata": {},
   "outputs": [
    {
     "name": "stdout",
     "output_type": "stream",
     "text": [
      "===== Completed 50 number of pulls =========\n",
      "===== Completed 100 number of pulls =========\n",
      "===== Completed 150 number of pulls =========\n",
      "===== Completed 200 number of pulls =========\n",
      "===== Completed 250 number of pulls =========\n",
      "===== Completed 300 number of pulls =========\n",
      "===== Completed 350 number of pulls =========\n",
      "===== Completed 400 number of pulls =========\n",
      "===== Completed 450 number of pulls =========\n",
      "===== Completed 500 number of pulls =========\n",
      "===== Completed 550 number of pulls =========\n",
      "===== Completed 600 number of pulls =========\n",
      "===== Completed 650 number of pulls =========\n",
      "===== Completed 700 number of pulls =========\n",
      "===== Completed 750 number of pulls =========\n"
     ]
    }
   ],
   "source": [
    "all_pages_post_urls = {}\n",
    "for i in range(1, 800):\n",
    "    created_url = base_url + str(i)\n",
    "    page = i\n",
    "    post_list = extract_urls_from_medhelp(created_url, headers=headers)\n",
    "    all_pages_post_urls[page] = post_list\n",
    "    if page%50 == 0:\n",
    "        print(f\"===== Completed {page} number of pulls =========\")\n",
    "\n"
   ]
  },
  {
   "cell_type": "code",
   "execution_count": 7,
   "metadata": {},
   "outputs": [],
   "source": [
    "with open('all_pages_post_urls.pickle', 'wb') as f:\n",
    "    pickle.dump(all_pages_post_urls, f, protocol=pickle.HIGHEST_PROTOCOL)"
   ]
  },
  {
   "cell_type": "code",
   "execution_count": 16,
   "metadata": {},
   "outputs": [],
   "source": [
    "for value in all_pages_post_urls.values():\n",
    "    if value == -1:\n",
    "        print(\"At least one request was returned without 200 status code\")"
   ]
  },
  {
   "cell_type": "code",
   "execution_count": 17,
   "metadata": {},
   "outputs": [],
   "source": [
    "all_urls_for_posts = []\n",
    "for key, value in all_pages_post_urls.items():\n",
    "    for url in value:\n",
    "        all_urls_for_posts.append(url)"
   ]
  },
  {
   "cell_type": "code",
   "execution_count": 18,
   "metadata": {},
   "outputs": [],
   "source": [
    "with open('all_urls_for_posts.pickle', 'wb') as f:\n",
    "    pickle.dump(all_urls_for_posts, f, protocol=pickle.HIGHEST_PROTOCOL)"
   ]
  },
  {
   "cell_type": "code",
   "execution_count": 19,
   "metadata": {},
   "outputs": [
    {
     "data": {
      "text/plain": [
       "4748"
      ]
     },
     "execution_count": 19,
     "metadata": {},
     "output_type": "execute_result"
    }
   ],
   "source": [
    "len(all_urls_for_posts)"
   ]
  },
  {
   "cell_type": "code",
   "execution_count": 24,
   "metadata": {},
   "outputs": [
    {
     "data": {
      "text/plain": [
       "'/posts/Eye-Care/eyeball-pain/show/1224201'"
      ]
     },
     "execution_count": 24,
     "metadata": {},
     "output_type": "execute_result"
    }
   ],
   "source": [
    "all_urls_for_posts[1]"
   ]
  },
  {
   "cell_type": "markdown",
   "metadata": {},
   "source": [
    "# Get content for each post, includes question and clinical response"
   ]
  },
  {
   "cell_type": "code",
   "execution_count": 25,
   "metadata": {},
   "outputs": [],
   "source": [
    "def extract_details_medhelp_post(post_url, headers):\n",
    "    website = 'https://www.medhelp.org'\n",
    "    URL = website + post_url + '?sort_by=oldest'\n",
    "    resp_post = requests.get(URL , headers=headers)\n",
    "    if resp_post.status_code != 200:\n",
    "        return -1\n",
    "    soup = BeautifulSoup(resp_post.content, \"html.parser\")\n",
    "    div_rel = soup.find('div', id='body_container')\n",
    "\n",
    "    post_heading = div_rel.find('h1', class_= 'subj_title').text.strip()\n",
    "    post_details = div_rel.find('div', id='subject_msg').text.strip()\n",
    "\n",
    "    reply_details = div_rel.find('div', class_='resp_body').text.strip()\n",
    "\n",
    "    reply_name = div_rel.find('div', class_= 'resp_info').a.text\n",
    "    reply_page = div_rel.find('div', class_= 'resp_info').a.attrs['href']\n",
    "\n",
    "    return [post_heading, post_details, reply_details, reply_name, reply_page]"
   ]
  },
  {
   "cell_type": "code",
   "execution_count": 28,
   "metadata": {},
   "outputs": [
    {
     "name": "stdout",
     "output_type": "stream",
     "text": [
      "==== Completed extraction of total 1 number of posts ====\n",
      "==== Completed extraction of total 501 number of posts ====\n",
      "==== Completed extraction of total 1001 number of posts ====\n",
      "==== Completed extraction of total 1501 number of posts ====\n",
      "==== Completed extraction of total 2001 number of posts ====\n",
      "==== Completed extraction of total 2501 number of posts ====\n",
      "==== Completed extraction of total 3001 number of posts ====\n",
      "==== Completed extraction of total 3501 number of posts ====\n",
      "==== Completed extraction of total 4001 number of posts ====\n",
      "==== Completed extraction of total 4501 number of posts ====\n"
     ]
    }
   ],
   "source": [
    "all_post_details_dict = {}\n",
    "count = 0\n",
    "for post_url in all_urls_for_posts:\n",
    "    return_parse_details = extract_details_medhelp_post(post_url=post_url, headers=headers)\n",
    "    all_post_details_dict[post_url] = return_parse_details\n",
    "    if count % 500 == 0:\n",
    "        print(f\"==== Completed extraction of total {count+1} number of posts ====\")\n",
    "    count += 1"
   ]
  },
  {
   "cell_type": "code",
   "execution_count": 29,
   "metadata": {},
   "outputs": [],
   "source": [
    "with open('all_post_details_dict.pickle', 'wb') as f:\n",
    "    pickle.dump(all_post_details_dict, f, protocol=pickle.HIGHEST_PROTOCOL)"
   ]
  },
  {
   "cell_type": "code",
   "execution_count": null,
   "metadata": {},
   "outputs": [],
   "source": []
  }
 ],
 "metadata": {
  "kernelspec": {
   "display_name": "Python 3.9.12 ('base')",
   "language": "python",
   "name": "python3"
  },
  "language_info": {
   "codemirror_mode": {
    "name": "ipython",
    "version": 3
   },
   "file_extension": ".py",
   "mimetype": "text/x-python",
   "name": "python",
   "nbconvert_exporter": "python",
   "pygments_lexer": "ipython3",
   "version": "3.9.12"
  },
  "orig_nbformat": 4,
  "vscode": {
   "interpreter": {
    "hash": "e0c937fdf9ccae87d0c83294b3046bb90558c3dea393d9c359be1166f2ad2fa3"
   }
  }
 },
 "nbformat": 4,
 "nbformat_minor": 2
}
