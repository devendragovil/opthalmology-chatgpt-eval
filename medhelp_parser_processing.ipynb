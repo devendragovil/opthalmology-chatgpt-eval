{
 "cells": [
  {
   "cell_type": "code",
   "execution_count": 1,
   "metadata": {},
   "outputs": [],
   "source": [
    "import pickle \n",
    "import pandas as pd\n",
    "import numpy as np\n",
    "import matplotlib.pyplot as plt\n",
    "from bs4 import BeautifulSoup\n",
    "import requests"
   ]
  },
  {
   "cell_type": "code",
   "execution_count": 2,
   "metadata": {},
   "outputs": [],
   "source": [
    "with open('./all_post_details_dict.pickle', 'rb') as f:\n",
    "    all_post_details_dict = pickle.load(f)"
   ]
  },
  {
   "cell_type": "code",
   "execution_count": 3,
   "metadata": {},
   "outputs": [],
   "source": [
    "list_post_url = []\n",
    "list_post_heading = []\n",
    "list_post_details = []\n",
    "list_reply_details = []\n",
    "list_reply_name = []\n",
    "list_reply_page = []"
   ]
  },
  {
   "cell_type": "code",
   "execution_count": 4,
   "metadata": {},
   "outputs": [],
   "source": [
    "for key, value in all_post_details_dict.items():\n",
    "    list_post_url.append(key)\n",
    "    list_post_heading.append(value[0])\n",
    "    list_post_details.append(value[1])\n",
    "    list_reply_details.append(value[2])\n",
    "    list_reply_name.append(value[3])\n",
    "    list_reply_page.append(value[4])"
   ]
  },
  {
   "cell_type": "code",
   "execution_count": 8,
   "metadata": {},
   "outputs": [],
   "source": [
    "df_data_extracted = pd.DataFrame()\n",
    "df_data_extracted['Post_URL'] = list_post_url\n",
    "df_data_extracted['Post Heading'] = list_post_heading\n",
    "df_data_extracted['Post Details'] = list_post_details\n",
    "df_data_extracted['Reply Details'] = list_reply_details\n",
    "df_data_extracted['Clinician Name'] = list_reply_name\n",
    "df_data_extracted['Clinician Page'] = list_reply_page"
   ]
  },
  {
   "cell_type": "code",
   "execution_count": 10,
   "metadata": {},
   "outputs": [],
   "source": [
    "df_data_extracted.to_excel('data_extracted_from_medhelp_posts.xlsx')"
   ]
  },
  {
   "cell_type": "code",
   "execution_count": null,
   "metadata": {},
   "outputs": [],
   "source": []
  }
 ],
 "metadata": {
  "kernelspec": {
   "display_name": "Python 3.9.12 ('base')",
   "language": "python",
   "name": "python3"
  },
  "language_info": {
   "codemirror_mode": {
    "name": "ipython",
    "version": 3
   },
   "file_extension": ".py",
   "mimetype": "text/x-python",
   "name": "python",
   "nbconvert_exporter": "python",
   "pygments_lexer": "ipython3",
   "version": "3.9.12"
  },
  "orig_nbformat": 4,
  "vscode": {
   "interpreter": {
    "hash": "e0c937fdf9ccae87d0c83294b3046bb90558c3dea393d9c359be1166f2ad2fa3"
   }
  }
 },
 "nbformat": 4,
 "nbformat_minor": 2
}
