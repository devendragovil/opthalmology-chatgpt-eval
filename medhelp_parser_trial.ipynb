{
 "cells": [
  {
   "cell_type": "code",
   "execution_count": 2,
   "metadata": {},
   "outputs": [],
   "source": [
    "import pandas as pd\n",
    "import numpy as np\n",
    "import matplotlib.pyplot as plt\n",
    "from bs4 import BeautifulSoup\n",
    "import requests "
   ]
  },
  {
   "cell_type": "markdown",
   "metadata": {},
   "source": [
    "# Get list of all URLs to parse"
   ]
  },
  {
   "cell_type": "code",
   "execution_count": 3,
   "metadata": {},
   "outputs": [],
   "source": [
    "headers = {\n",
    "    'authority': 'cdn.cookielaw.org',\n",
    "    'accept': '*/*',\n",
    "    'accept-language': 'en-US,en;q=0.9',\n",
    "    'referer': 'https://www.medhelp.org/',\n",
    "    'sec-ch-ua': '\"Not_A Brand\";v=\"99\", \"Google Chrome\";v=\"109\", \"Chromium\";v=\"109\"',\n",
    "    'sec-ch-ua-mobile': '?0',\n",
    "    'sec-ch-ua-platform': '\"macOS\"',\n",
    "    'sec-fetch-dest': 'script',\n",
    "    'sec-fetch-mode': 'no-cors',\n",
    "    'sec-fetch-site': 'cross-site',\n",
    "    'user-agent': 'Mozilla/5.0 (Macintosh; Intel Mac OS X 10_15_7) AppleWebKit/537.36 (KHTML, like Gecko) Chrome/109.0.0.0 Safari/537.36',\n",
    "}"
   ]
  },
  {
   "cell_type": "code",
   "execution_count": 4,
   "metadata": {},
   "outputs": [],
   "source": [
    "URL = 'https://www.medhelp.org/forums/Eye-Care/show/90?page=4'\n",
    "\n",
    "resp1 = requests.get(URL, headers=headers)"
   ]
  },
  {
   "cell_type": "code",
   "execution_count": 5,
   "metadata": {},
   "outputs": [
    {
     "data": {
      "text/plain": [
       "int"
      ]
     },
     "execution_count": 5,
     "metadata": {},
     "output_type": "execute_result"
    }
   ],
   "source": [
    "type(resp1.status_code)"
   ]
  },
  {
   "cell_type": "code",
   "execution_count": 6,
   "metadata": {},
   "outputs": [],
   "source": [
    "soup = BeautifulSoup(resp1.content, \"html.parser\")"
   ]
  },
  {
   "cell_type": "code",
   "execution_count": 7,
   "metadata": {},
   "outputs": [],
   "source": [
    "div_rel = soup.find('div', id='body_container')"
   ]
  },
  {
   "cell_type": "code",
   "execution_count": 13,
   "metadata": {},
   "outputs": [
    {
     "name": "stdout",
     "output_type": "stream",
     "text": [
      "/posts/Eye-Care/regarding-the-difference-in-my-eye-size/show/1668376\n",
      "/posts/Eye-Care/flashing-lights-in-my-vision/show/224369\n",
      "/posts/Eye-Care/How-to-correct-vision-after-cataract-surgery-in-only-one-eye/show/1294816\n",
      "/posts/Eye-Care/Gas-Bubbles/show/1385815\n",
      "/posts/Eye-Care/Bilateral-Monocular-Diplopia-Help/show/462330\n",
      "/posts/Eye-Care/Rebound-Hyperemia/show/491565\n"
     ]
    }
   ],
   "source": [
    "for i in div_rel.find_all('h2', class_ = 'subj_title'):\n",
    "    print(i.a.attrs['href'])"
   ]
  },
  {
   "cell_type": "code",
   "execution_count": 62,
   "metadata": {},
   "outputs": [],
   "source": [
    "def extract_urls_from_medhelp(URL, headers):\n",
    "    \n",
    "    response = requests.get(URL, headers=headers)\n",
    "    if response.status_code != 200:\n",
    "        return -1\n",
    "    \n",
    "    soup = BeautifulSoup(response.content, \"html.parser\")\n",
    "\n",
    "    div_rel = soup.find('div', id='body_container')\n",
    "\n",
    "    all_h2_tags = div_rel.find_all('h2', class_ = 'subj_title')\n",
    "\n",
    "    post_list = []\n",
    "\n",
    "    for child in all_h2_tags:\n",
    "        post_list.append( child.a.attrs['href'])\n",
    "    \n",
    "    return post_list\n",
    "\n",
    "\n"
   ]
  },
  {
   "cell_type": "code",
   "execution_count": 63,
   "metadata": {},
   "outputs": [
    {
     "data": {
      "text/plain": [
       "['/posts/Eye-Care/Starburst-after-yag-cap/show/1900237',\n",
       " '/posts/Eye-Care/CRT-Ortho-K/show/1900337',\n",
       " '/posts/Eye-Care/after-cataract-intra-vitreal-injection/show/1899577',\n",
       " '/posts/Eye-Care/Itchy-white-bump-on-caruncle/show/1883521',\n",
       " '/posts/Eye-Care/posterior-polar-and-other-issues/show/1898354',\n",
       " '/posts/Eye-Care/Floaters/show/1865636']"
      ]
     },
     "execution_count": 63,
     "metadata": {},
     "output_type": "execute_result"
    }
   ],
   "source": [
    "extract_urls_from_medhelp('https://www.medhelp.org/forums/Eye-Care/show/90?page=103', headers=headers)"
   ]
  },
  {
   "cell_type": "markdown",
   "metadata": {},
   "source": [
    "# For a particular URL, extract the post and the response"
   ]
  },
  {
   "cell_type": "code",
   "execution_count": 22,
   "metadata": {},
   "outputs": [],
   "source": [
    "post_url = '/posts/Eye-Care/Starburst-after-yag-cap/show/1900237'"
   ]
  },
  {
   "cell_type": "code",
   "execution_count": 23,
   "metadata": {},
   "outputs": [],
   "source": [
    "website = 'https://www.medhelp.org'"
   ]
  },
  {
   "cell_type": "code",
   "execution_count": 42,
   "metadata": {},
   "outputs": [],
   "source": [
    "resp_post = requests.get(website+post_url+'?sort_by=oldest', headers=headers)"
   ]
  },
  {
   "cell_type": "code",
   "execution_count": 43,
   "metadata": {},
   "outputs": [
    {
     "data": {
      "text/plain": [
       "200"
      ]
     },
     "execution_count": 43,
     "metadata": {},
     "output_type": "execute_result"
    }
   ],
   "source": [
    "resp_post.status_code"
   ]
  },
  {
   "cell_type": "code",
   "execution_count": 44,
   "metadata": {},
   "outputs": [],
   "source": [
    "soup = BeautifulSoup(resp_post.content, \"html.parser\")"
   ]
  },
  {
   "cell_type": "code",
   "execution_count": 45,
   "metadata": {},
   "outputs": [],
   "source": [
    "div_rel = soup.find('div', id='body_container')"
   ]
  },
  {
   "cell_type": "code",
   "execution_count": 46,
   "metadata": {},
   "outputs": [
    {
     "data": {
      "text/plain": [
       "'Starburst after yag cap'"
      ]
     },
     "execution_count": 46,
     "metadata": {},
     "output_type": "execute_result"
    }
   ],
   "source": [
    "div_rel.find('h1', class_= 'subj_title').text.strip()"
   ]
  },
  {
   "cell_type": "code",
   "execution_count": 47,
   "metadata": {},
   "outputs": [
    {
     "data": {
      "text/plain": [
       "'Went back to my eye dr , he said I had a piece\\xa0\\xa0of vitrerous leftover from the yag cap that was hanging on . It is still connected and moving in front of my line of vision he is doing a second yag cap to fix the problem .\\xa0\\xa0 Brian'"
      ]
     },
     "execution_count": 47,
     "metadata": {},
     "output_type": "execute_result"
    }
   ],
   "source": [
    "div_rel.find('div', id='subject_msg').text.strip()"
   ]
  },
  {
   "cell_type": "code",
   "execution_count": 49,
   "metadata": {},
   "outputs": [
    {
     "data": {
      "text/plain": [
       "'It is possible that a tag or remnant of the capsule is in the line of sight in the central vitreous.\\xa0\\xa0If this is bothersome to you, a second YAG laser will probably be able to move the fragment out of your central vision.'"
      ]
     },
     "execution_count": 49,
     "metadata": {},
     "output_type": "execute_result"
    }
   ],
   "source": [
    "div_rel.find('div', class_='resp_body').text.strip()"
   ]
  },
  {
   "cell_type": "code",
   "execution_count": 53,
   "metadata": {},
   "outputs": [
    {
     "data": {
      "text/plain": [
       "'Doreen  Fazio, M.D.'"
      ]
     },
     "execution_count": 53,
     "metadata": {},
     "output_type": "execute_result"
    }
   ],
   "source": [
    "div_rel.find('div', class_= 'resp_info').a.text"
   ]
  },
  {
   "cell_type": "code",
   "execution_count": 56,
   "metadata": {},
   "outputs": [
    {
     "data": {
      "text/plain": [
       "'/personal_pages/user/2078052'"
      ]
     },
     "execution_count": 56,
     "metadata": {},
     "output_type": "execute_result"
    }
   ],
   "source": [
    "div_rel.find('div', class_= 'resp_info').a.attrs['href']"
   ]
  },
  {
   "cell_type": "code",
   "execution_count": 64,
   "metadata": {},
   "outputs": [],
   "source": [
    "def extract_details_medhelp_post(post_url, headers):\n",
    "    website = 'https://www.medhelp.org'\n",
    "    URL = website + post_url + '?sort_by=oldest'\n",
    "    resp_post = requests.get(URL , headers=headers)\n",
    "    if resp_post.status_code != 200:\n",
    "        return -1\n",
    "    soup = BeautifulSoup(resp_post.content, \"html.parser\")\n",
    "    div_rel = soup.find('div', id='body_container')\n",
    "\n",
    "    post_heading = div_rel.find('h1', class_= 'subj_title').text.strip()\n",
    "    post_details = div_rel.find('div', id='subject_msg').text.strip()\n",
    "\n",
    "    reply_details = div_rel.find('div', class_='resp_body').text.strip()\n",
    "\n",
    "    reply_name = div_rel.find('div', class_= 'resp_info').a.text\n",
    "    reply_page = div_rel.find('div', class_= 'resp_info').a.attrs['href']\n",
    "\n",
    "    return [post_heading, post_details, reply_details, reply_name, reply_page]"
   ]
  },
  {
   "cell_type": "code",
   "execution_count": 65,
   "metadata": {},
   "outputs": [
    {
     "data": {
      "text/plain": [
       "['Starburst after yag cap',\n",
       " 'Went back to my eye dr , he said I had a piece\\xa0\\xa0of vitrerous leftover from the yag cap that was hanging on . It is still connected and moving in front of my line of vision he is doing a second yag cap to fix the problem .\\xa0\\xa0 Brian',\n",
       " 'It is possible that a tag or remnant of the capsule is in the line of sight in the central vitreous.\\xa0\\xa0If this is bothersome to you, a second YAG laser will probably be able to move the fragment out of your central vision.',\n",
       " 'Doreen  Fazio, M.D.',\n",
       " '/personal_pages/user/2078052']"
      ]
     },
     "execution_count": 65,
     "metadata": {},
     "output_type": "execute_result"
    }
   ],
   "source": [
    "extract_details_medhelp_post(post_url=post_url, headers=headers)"
   ]
  },
  {
   "cell_type": "code",
   "execution_count": null,
   "metadata": {},
   "outputs": [],
   "source": []
  }
 ],
 "metadata": {
  "kernelspec": {
   "display_name": "Python 3.9.12 ('base')",
   "language": "python",
   "name": "python3"
  },
  "language_info": {
   "codemirror_mode": {
    "name": "ipython",
    "version": 3
   },
   "file_extension": ".py",
   "mimetype": "text/x-python",
   "name": "python",
   "nbconvert_exporter": "python",
   "pygments_lexer": "ipython3",
   "version": "3.9.12"
  },
  "orig_nbformat": 4,
  "vscode": {
   "interpreter": {
    "hash": "e0c937fdf9ccae87d0c83294b3046bb90558c3dea393d9c359be1166f2ad2fa3"
   }
  }
 },
 "nbformat": 4,
 "nbformat_minor": 2
}
